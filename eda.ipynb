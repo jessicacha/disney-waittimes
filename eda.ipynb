{
 "cells": [
  {
   "cell_type": "code",
   "execution_count": null,
   "metadata": {},
   "outputs": [],
   "source": [
    "import seaborn as sns\n",
    "import numpy as np\n",
    "import pandas as pd\n",
    "import matplotlib.pyplot as plt\n",
    "import plotly.express as px"
   ]
  },
  {
   "cell_type": "code",
   "execution_count": null,
   "metadata": {},
   "outputs": [],
   "source": [
    "# Options\n",
    "pd.set_option('precision', 2)\n",
    "%matplotlib inline"
   ]
  },
  {
   "cell_type": "code",
   "execution_count": null,
   "metadata": {},
   "outputs": [],
   "source": [
    "# CONSTANTS\n",
    "DOW_ORDER =['Monday', 'Tuesday', 'Wednesday', 'Thursday', 'Friday', 'Saturday', 'Sunday']\n",
    "MAX_MINUTES = 60 * 5"
   ]
  },
  {
   "cell_type": "code",
   "execution_count": null,
   "metadata": {},
   "outputs": [],
   "source": [
    "clean_df = (\n",
    "    pd.read_csv('data/clean_data.csv')\n",
    "    .assign(\n",
    "        date=lambda d: pd.to_datetime(d.date),\n",
    "        datetime=lambda d: pd.to_datetime(d.datetime),\n",
    "        day_of_week=lambda d: pd.to_datetime(d.date).dt.dayofweek,\n",
    "        day_name=lambda d: pd.to_datetime(d.date).dt.day_name(),\n",
    "    )\n",
    ")\n",
    "\n",
    "print(clean_df.shape)\n",
    "clean_df.columns"
   ]
  },
  {
   "cell_type": "code",
   "execution_count": null,
   "metadata": {},
   "outputs": [],
   "source": [
    "open_days_df = clean_df[(clean_df.SPOSTMIN > 0) | (clean_df.SACTMIN > 0)]\n",
    "actuals_df = open_days_df[(open_days_df.SACTMIN > 0) & (open_days_df.SACTMIN < MAX_MINUTES)]"
   ]
  },
  {
   "cell_type": "markdown",
   "metadata": {},
   "source": [
    "# Summary and distribution"
   ]
  },
  {
   "cell_type": "code",
   "execution_count": null,
   "metadata": {
    "jupyter": {
     "outputs_hidden": true
    }
   },
   "outputs": [],
   "source": [
    "(\n",
    "    open_days_df\n",
    "    .loc[:, ['short_name', 'duration', 'SACTMIN', 'SPOSTMIN']]\n",
    "    .groupby(['short_name', 'duration'])\n",
    "    .describe()\n",
    ")"
   ]
  },
  {
   "cell_type": "markdown",
   "metadata": {},
   "source": [
    "## Posted wait-time boxplot per ride"
   ]
  },
  {
   "cell_type": "code",
   "execution_count": null,
   "metadata": {},
   "outputs": [],
   "source": [
    "fig = px.box(open_days_df, x='SPOSTMIN', y='short_name')\n",
    "fig.update_xaxes(title_text='Posted wait time (minutes)')\n",
    "fig.update_yaxes(title_text='')\n",
    "fig.show()"
   ]
  },
  {
   "cell_type": "markdown",
   "metadata": {},
   "source": [
    "# Relationships"
   ]
  },
  {
   "cell_type": "markdown",
   "metadata": {
    "toc-hr-collapsed": true
   },
   "source": [
    "## Wait times per day of week"
   ]
  },
  {
   "cell_type": "markdown",
   "metadata": {},
   "source": [
    "### Actual wait times: biased observation of actuals"
   ]
  },
  {
   "cell_type": "code",
   "execution_count": null,
   "metadata": {},
   "outputs": [],
   "source": [
    "fig = px.box(actuals_df, x='day_of_week', y='SACTMIN')\n",
    "fig.update_yaxes(title_text='Actual wait time (minutes)')\n",
    "fig.update_xaxes(title_text='Day of week',\n",
    "                 ticktext=DOW_ORDER, tickvals=list(range(7)))\n",
    "fig.show()"
   ]
  },
  {
   "cell_type": "code",
   "execution_count": null,
   "metadata": {},
   "outputs": [],
   "source": [
    "plt.figure(figsize=(7, 6))\n",
    "g = sns.boxplot(x='day_of_week', y='SACTMIN', data=actuals_df, )\n",
    "g = g.set(xlabel='Day of week', xticks=range(7), xticklabels=DOW_ORDER,\n",
    "          ylabel='Actual wait time (log(minutes))', yscale='log')"
   ]
  },
  {
   "cell_type": "code",
   "execution_count": null,
   "metadata": {},
   "outputs": [],
   "source": [
    "g = sns.relplot(x='day_of_week', y='SACTMIN', kind='line', data=actuals_df, height=7, aspect=2)\n",
    "g = g.set(xlabel='Day of week', xticks=range(7), xticklabels=DOW_ORDER,\n",
    "          ylabel='Actual wait time (minutes)')"
   ]
  },
  {
   "cell_type": "markdown",
   "metadata": {},
   "source": [
    "### Posted wait times: complete observation of estimates"
   ]
  },
  {
   "cell_type": "code",
   "execution_count": null,
   "metadata": {},
   "outputs": [],
   "source": [
    "plt.figure(figsize=(7, 6))\n",
    "g = sns.boxplot(x='day_of_week', y='SPOSTMIN', data=open_days_df, )\n",
    "g = g.set(xlabel='Day of week', xticks=range(7), xticklabels=DOW_ORDER,\n",
    "          ylabel='Posted wait time (log(minutes))', yscale='log')"
   ]
  },
  {
   "cell_type": "code",
   "execution_count": null,
   "metadata": {},
   "outputs": [],
   "source": [
    "g = sns.relplot(x='day_of_week', y='SPOSTMIN', kind='line', data=open_days_df, height=7, aspect=2)\n",
    "g = g.set(xlabel='Day of week', xticks=range(7), xticklabels=DOW_ORDER,\n",
    "          ylabel='Posted wait time (minutes)')"
   ]
  },
  {
   "cell_type": "code",
   "execution_count": null,
   "metadata": {},
   "outputs": [],
   "source": [
    "seasons_map = (\n",
    "    open_days_df\n",
    "    .groupby('SEASON')\n",
    "    ['date']\n",
    "    .quantile(.5)\n",
    "    .reset_index()\n",
    ")\n",
    "\n",
    "# Seasons to exclude, for viz. purposes\n",
    "# exclude_seasons = ['CHRISTMAS PEAK', 'MARDI GRAS', 'JULY 4TH', 'JERSEY WEEK']\n",
    "# seasons_map = seasons_map[~seasons_map.SEASON.isin(exclude_seasons)]\n",
    "seasons_map.sort_values('date')"
   ]
  },
  {
   "cell_type": "code",
   "execution_count": null,
   "metadata": {},
   "outputs": [],
   "source": [
    "open_days_df.date"
   ]
  },
  {
   "cell_type": "code",
   "execution_count": null,
   "metadata": {},
   "outputs": [],
   "source": [
    "g = sns.relplot(x='date', y='SPOSTMIN', kind='line', data=open_days_df, height=7, aspect=2)\n",
    "g = g.set(xlabel='Date', ylabel='Posted wait time (minutes)', xticks=seasons_map.date, xticklabels=seasons_map.SEASON)\n",
    "g = g.set_xticklabels(rotation=45, horizontalalignment='right')"
   ]
  },
  {
   "cell_type": "code",
   "execution_count": null,
   "metadata": {},
   "outputs": [],
   "source": [
    "g = sns.relplot(x='date', y='SPOSTMIN', kind='line', data=open_days_df, height=7, aspect=2, hue='short_name')\n",
    "g = g.set(xlabel='Date', ylabel='Posted wait time (minutes)', xticks=seasons_map.date, xticklabels=seasons_map.SEASON)\n",
    "g = g.set_xticklabels(rotation=45, horizontalalignment='right')"
   ]
  },
  {
   "cell_type": "markdown",
   "metadata": {},
   "source": [
    "## Wait times by weather"
   ]
  },
  {
   "cell_type": "code",
   "execution_count": null,
   "metadata": {},
   "outputs": [],
   "source": [
    "g = sns.lmplot(x='WDWMINTEMP', y='SACTMIN', data=actuals_df,\n",
    "               height=7)"
   ]
  },
  {
   "cell_type": "code",
   "execution_count": null,
   "metadata": {},
   "outputs": [],
   "source": []
  }
 ],
 "metadata": {
  "kernelspec": {
   "display_name": "Python 3",
   "language": "python",
   "name": "python3"
  },
  "language_info": {
   "codemirror_mode": {
    "name": "ipython",
    "version": 3
   },
   "file_extension": ".py",
   "mimetype": "text/x-python",
   "name": "python",
   "nbconvert_exporter": "python",
   "pygments_lexer": "ipython3",
   "version": "3.8.5"
  },
  "toc-showtags": false
 },
 "nbformat": 4,
 "nbformat_minor": 4
}
